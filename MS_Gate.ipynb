{
 "cells": [
  {
   "cell_type": "code",
   "execution_count": 2,
   "metadata": {},
   "outputs": [],
   "source": [
    "#https://www.nature.com/articles/s41467-018-08090-0  Mode Frequencies/LD params\n",
    "\n",
    "import numpy as np\n",
    "import matplotlib.pyplot as plt\n",
    "import scipy.special as special\n",
    "\n",
    "def eval_rabi_freq(nStart, nDelta, eta):\n",
    "    \"\"\"\n",
    "    Calculates Rabi Frequency for nStart -> nStart + nDelta\n",
    "\n",
    "    Args:\n",
    "        nStart (int): Initial phonon state\n",
    "        nDelta (int): Change in phonon number\n",
    "        eta (float): Lamb-Dicke Parameter\n",
    "\n",
    "    Returns:\n",
    "        float: Rabi frequency\n",
    "    \"\"\"\n",
    "    nEnd = nStart + nDelta\n",
    "\n",
    "    nSmall = min([nStart, nEnd])\n",
    "    nBig = max([nStart, nEnd])\n",
    "    factor2 = np.exp(-0.5 * eta**2) * eta**(np.absolute(nDelta))\n",
    "    factor3 = np.sqrt(np.math.factorial(nSmall)/np.math.factorial(nBig))\n",
    "    factor4 = special.assoc_laguerre(eta**2, nSmall, np.absolute(nDelta))\n",
    "\n",
    "    return factor2 * factor3 * factor4\n",
    "\n",
    "def generate_ld_matrix(ld_param):\n",
    "    \"\"\"\n",
    "    Generate 3x3 matrix containing the Lamb-Dicke parameters for 3 ions for the 3 modes of motion along each axis.\n",
    "    \n",
    "    Rows label modes\n",
    "    Columns label the ions\n",
    "    \n",
    "    E.g) matrix[1][2]\n",
    "        Row = 1 -> OP1 Mode\n",
    "        Column = 2 -> 3rd Ion\n",
    "    \"\"\"\n",
    "    matrix = np.empty([3, 3])\n",
    "    \n",
    "    for i in range(3):\n",
    "        if i == 0: # Center-of-Mass Motion\n",
    "            for j in range(3):\n",
    "                matrix[i][j] = ld_param\n",
    "        elif i == 1: # OP1\n",
    "            matrix[i][0] = (ld_param * np.sqrt(3))/np.sqrt(2)\n",
    "            matrix[i][1] = 0\n",
    "            matrix[i][2] = (ld_param * np.sqrt(3))/np.sqrt(2)\n",
    "        else:   # OP2\n",
    "            matrix[i][0] = (ld_param * np.sqrt(3))/np.sqrt(6)\n",
    "            matrix[i][1] = -2 * (ld_param * np.sqrt(3))/np.sqrt(6)\n",
    "            matrix[i][2] = (ld_param * np.sqrt(3))/np.sqrt(6)\n",
    "    \n",
    "    return matrix\n",
    "\n",
    "# Max Fock State\n",
    "N = 10"
   ]
  },
  {
   "cell_type": "markdown",
   "metadata": {},
   "source": [
    "#### Infidelity Calculations\n",
    "\n",
    "For a MS interaction involving ground-state cooled motional modes, the infidelity is approximately given by:\n",
    "\n",
    "$ F = \\frac{4}{5} \\sum_p (|\\alpha_{i,p}|^2 + |\\alpha_{j,p}|^2), \\quad \\alpha_{i, p} = \\int^\\tau_0 \\Omega(t) \\sin[\\psi(t)] e^{i\\omega_p t}, \\quad \\psi(t) = \\int^t_0 \\mu(t')dt' $\n",
    "\n",
    "The index $i$ labels the ions, and $p$ the motional modes, with an associated mode frequency $\\omega_p$. Here, $\\tau$ is the gate time, and $\\Omega(t)$ and $\\mu(t')$ are the time-dependent Rabi frequency and detuning respectively."
   ]
  },
  {
   "cell_type": "markdown",
   "metadata": {},
   "source": [
    "### Three-ion System Set-up"
   ]
  },
  {
   "cell_type": "code",
   "execution_count": 3,
   "metadata": {},
   "outputs": [],
   "source": [
    "# --------------------- Rabi Frequenies --------------------\n",
    "ax_freq = 0.404\n",
    "r1_freq = 1.093\n",
    "r2_freq = 1.375\n",
    "\n",
    "ax_modes = [ax_freq, np.sqrt(3) * ax_freq, np.sqrt(29/5) * ax_freq]\n",
    "r1_modes = [r1_freq, np.sqrt(r1_freq**2 - ax_freq**2), np.sqrt(r1_freq**2 - (12/5) * ax_freq**2)]\n",
    "r2_modes = [r2_freq, np.sqrt(r2_freq**2 - ax_freq**2), np.sqrt(r2_freq**2 - (12/5) * ax_freq**2)]\n",
    "\n",
    "# --------------------- Lamb-Dicke Parameteres --------------------\n",
    "ax_ld_param = 0.26\n",
    "r1_ld_param = 0.1\n",
    "r2_ld_param = 0.1\n",
    "\n",
    "     \n",
    "\n",
    "ax_ld = generate_ld_matrix(ax_ld_param)\n",
    "r1_ld = generate_ld_matrix(r1_ld_param)\n",
    "r2_ld = generate_ld_matrix(r2_ld_param)\n",
    "\n",
    "# --------------------- Experimental Parameters --------------------\n",
    "carr_rabi = 0.3 # Approximate value for 10us pi-time"
   ]
  }
 ],
 "metadata": {
  "kernelspec": {
   "display_name": "Python 3",
   "language": "python",
   "name": "python3"
  },
  "language_info": {
   "codemirror_mode": {
    "name": "ipython",
    "version": 3
   },
   "file_extension": ".py",
   "mimetype": "text/x-python",
   "name": "python",
   "nbconvert_exporter": "python",
   "pygments_lexer": "ipython3",
   "version": "3.10.6"
  }
 },
 "nbformat": 4,
 "nbformat_minor": 2
}
